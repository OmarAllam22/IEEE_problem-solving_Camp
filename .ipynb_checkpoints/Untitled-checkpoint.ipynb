{
 "cells": [
  {
   "cell_type": "code",
   "execution_count": 42,
   "id": "35a9eab6",
   "metadata": {},
   "outputs": [],
   "source": [
    "link = \"https://leetcode.com/problems/reverse-string/description/\"\n"
   ]
  },
  {
   "cell_type": "code",
   "execution_count": 43,
   "id": "f13aae10",
   "metadata": {},
   "outputs": [
    {
     "name": "stdout",
     "output_type": "stream",
     "text": [
      "Writing reverse-string.py\n"
     ]
    }
   ],
   "source": [
    "%%writefile {link.split(\"/\")[-3] + \".py\"}\n",
    "# https://leetcode.com/problems/reverse-string/description/\n",
    "\n",
    "class Solution:\n",
    "    def reverseString(self, s: List[str]) -> None:\n",
    "        \"\"\"\n",
    "        Do not return anything, modify s in-place instead.\n",
    "        \"\"\"\n",
    "        s[:] = s[::-1]"
   ]
  },
  {
   "cell_type": "code",
   "execution_count": 13,
   "id": "1b18acd5",
   "metadata": {},
   "outputs": [
    {
     "name": "stdout",
     "output_type": "stream",
     "text": [
      "Writing reverse-string.py\n"
     ]
    }
   ],
   "source": [
    "\n",
    "x =3 "
   ]
  },
  {
   "cell_type": "code",
   "execution_count": null,
   "id": "6f461fa3",
   "metadata": {},
   "outputs": [],
   "source": []
  }
 ],
 "metadata": {
  "kernelspec": {
   "display_name": "Python 3",
   "language": "python",
   "name": "python3"
  },
  "language_info": {
   "codemirror_mode": {
    "name": "ipython",
    "version": 3
   },
   "file_extension": ".py",
   "mimetype": "text/x-python",
   "name": "python",
   "nbconvert_exporter": "python",
   "pygments_lexer": "ipython3",
   "version": "3.8.8"
  }
 },
 "nbformat": 4,
 "nbformat_minor": 5
}
